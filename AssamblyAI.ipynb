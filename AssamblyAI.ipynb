{
 "cells": [
  {
   "cell_type": "code",
   "execution_count": 4,
   "id": "4918a571",
   "metadata": {},
   "outputs": [
    {
     "name": "stdout",
     "output_type": "stream",
     "text": [
      "Requirement already satisfied: requests in c:\\users\\dhiraj.kumar\\onedrive - acuvate software private limited\\documents\\java\\ipynb\\.venv\\lib\\site-packages (2.32.3)\n",
      "Requirement already satisfied: charset-normalizer<4,>=2 in c:\\users\\dhiraj.kumar\\onedrive - acuvate software private limited\\documents\\java\\ipynb\\.venv\\lib\\site-packages (from requests) (3.4.1)\n",
      "Requirement already satisfied: idna<4,>=2.5 in c:\\users\\dhiraj.kumar\\onedrive - acuvate software private limited\\documents\\java\\ipynb\\.venv\\lib\\site-packages (from requests) (3.10)\n",
      "Requirement already satisfied: urllib3<3,>=1.21.1 in c:\\users\\dhiraj.kumar\\onedrive - acuvate software private limited\\documents\\java\\ipynb\\.venv\\lib\\site-packages (from requests) (2.4.0)\n",
      "Requirement already satisfied: certifi>=2017.4.17 in c:\\users\\dhiraj.kumar\\onedrive - acuvate software private limited\\documents\\java\\ipynb\\.venv\\lib\\site-packages (from requests) (2025.4.26)\n"
     ]
    },
    {
     "name": "stderr",
     "output_type": "stream",
     "text": [
      "\n",
      "[notice] A new release of pip is available: 25.1 -> 25.1.1\n",
      "[notice] To update, run: python.exe -m pip install --upgrade pip\n"
     ]
    }
   ],
   "source": [
    "# AssemblyAI Speech-to-Text Full Working Code\n",
    "\n",
    "# Step 1: Install required library\n",
    "!pip install requests"
   ]
  },
  {
   "cell_type": "code",
   "execution_count": 5,
   "id": "7e537a4d",
   "metadata": {},
   "outputs": [],
   "source": [
    "# Step 2: Import libraries\n",
    "import requests\n",
    "import time\n",
    "import os"
   ]
  },
  {
   "cell_type": "code",
   "execution_count": 6,
   "id": "7f1f9820",
   "metadata": {},
   "outputs": [],
   "source": [
    "# Step 3: Set your API Key\n",
    "API_KEY = \"375df7ad86ab40d4af9df3e66d69103a\"\n",
    "upload_url = \"https://api.assemblyai.com/v2/upload\"\n",
    "transcript_url = \"https://api.assemblyai.com/v2/transcript\"\n",
    "\n",
    "headers = {\n",
    "    \"authorization\": API_KEY,\n",
    "    \"content-type\": \"application/json\"\n",
    "}\n"
   ]
  },
  {
   "cell_type": "code",
   "execution_count": 7,
   "id": "acffd89d",
   "metadata": {},
   "outputs": [],
   "source": [
    "# Step 4: Upload your audio file\n",
    "def upload_audio(file_path):\n",
    "    if not os.path.isfile(file_path):\n",
    "        raise FileNotFoundError(f\"File not found: {file_path}\")\n",
    "    \n",
    "    with open(file_path, 'rb') as f:\n",
    "        response = requests.post(upload_url, headers={\"authorization\": API_KEY}, files={'file': f})\n",
    "    \n",
    "    if response.status_code != 200:\n",
    "        raise Exception(f\"Upload failed: {response.text}\")\n",
    "    \n",
    "    audio_url = response.json()['upload_url']\n",
    "    print(\"Uploaded successfully. File URL:\", audio_url)\n",
    "    return audio_url\n"
   ]
  },
  {
   "cell_type": "code",
   "execution_count": 8,
   "id": "d8803c6c",
   "metadata": {},
   "outputs": [
    {
     "name": "stdout",
     "output_type": "stream",
     "text": [
      "Uploaded successfully. File URL: https://cdn.assemblyai.com/upload/8922ba7a-4488-47da-859b-c063c45a9700\n"
     ]
    }
   ],
   "source": [
    "# ✅ Set your local file path here\n",
    "file_path = \"C:/Users/dhiraj.kumar/Downloads/Behind The Discussion  Nikhil Kamath x Kumar Birla.mp3\"\n",
    "audio_url = upload_audio(file_path)"
   ]
  },
  {
   "cell_type": "code",
   "execution_count": 9,
   "id": "6db97723",
   "metadata": {},
   "outputs": [
    {
     "name": "stdout",
     "output_type": "stream",
     "text": [
      "Transcription ID: 670de13e-a8b9-42cc-8395-af442a8b5a82\n"
     ]
    }
   ],
   "source": [
    "# Step 5: Request transcription\n",
    "transcript_request = {\n",
    "    \"audio_url\": audio_url\n",
    "}\n",
    "\n",
    "transcript_response = requests.post(transcript_url, json=transcript_request, headers=headers)\n",
    "transcript_id = transcript_response.json()['id']\n",
    "print(\"Transcription ID:\", transcript_id)\n"
   ]
  },
  {
   "cell_type": "code",
   "execution_count": 10,
   "id": "764d1f01",
   "metadata": {},
   "outputs": [
    {
     "name": "stdout",
     "output_type": "stream",
     "text": [
      "\n",
      "Polling for transcription status...\n",
      "✅ Transcription completed!\n"
     ]
    }
   ],
   "source": [
    "# Step 6: Polling until transcription is complete\n",
    "polling_url = f\"{transcript_url}/{transcript_id}\"\n",
    "\n",
    "print(\"\\nPolling for transcription status...\")\n",
    "\n",
    "while True:\n",
    "    polling_response = requests.get(polling_url, headers=headers)\n",
    "    status = polling_response.json()['status']\n",
    "    \n",
    "    if status == 'completed':\n",
    "        print(\"✅ Transcription completed!\")\n",
    "        break\n",
    "    elif status == 'error':\n",
    "        print(\"❌ Error:\", polling_response.json()['error'])\n",
    "        break\n",
    "    else:\n",
    "        print(\"⏳ Transcribing... status =\", status)\n",
    "        time.sleep(5)\n"
   ]
  },
  {
   "cell_type": "code",
   "execution_count": 14,
   "id": "136d6979",
   "metadata": {},
   "outputs": [],
   "source": [
    "# Step 7: Get the final transcript\n",
    "transcript_text = polling_response.json()['text']\n",
    "# print(\"\\n--- 📝 Transcription Result ---\\n\")\n",
    "# print(transcript_text)"
   ]
  },
  {
   "cell_type": "code",
   "execution_count": 13,
   "id": "9e919d0a",
   "metadata": {},
   "outputs": [],
   "source": [
    "import textwrap"
   ]
  },
  {
   "cell_type": "code",
   "execution_count": 15,
   "id": "4b9da72d",
   "metadata": {},
   "outputs": [
    {
     "name": "stdout",
     "output_type": "stream",
     "text": [
      "\n",
      "--- 📝 Transcription Result (Formatted) ---\n",
      "\n",
      "We have covered all that we wanted to today. Thank you so much for doing this, for spending the time\n",
      "with us. Been a pleasure. Is it okay? Yeah, yeah. We shot quite a bit, huh? You're quite an intense\n",
      "guy, huh? Three and a half hours, but it was good. Thanks so much. Wow, Nikhil.\n"
     ]
    }
   ],
   "source": [
    "wrapped_text = textwrap.fill(transcript_text, width=100)\n",
    "\n",
    "print(\"\\n--- 📝 Transcription Result (Formatted) ---\\n\")\n",
    "print(wrapped_text)"
   ]
  },
  {
   "cell_type": "code",
   "execution_count": 17,
   "id": "8fbc3109",
   "metadata": {},
   "outputs": [
    {
     "name": "stdout",
     "output_type": "stream",
     "text": [
      "\n",
      "✅ Transcription saved to 'transcription_output.txt' in paragraph format.\n"
     ]
    }
   ],
   "source": [
    "# Optional: Save to a formatted file\n",
    "with open(\"transcription_output.txt\", \"w\", encoding=\"utf-8\") as f:\n",
    "    f.write(wrapped_text)\n",
    "\n",
    "print(\"\\n✅ Transcription saved to 'transcription_output.txt' in paragraph format.\")"
   ]
  }
 ],
 "metadata": {
  "kernelspec": {
   "display_name": ".venv",
   "language": "python",
   "name": "python3"
  },
  "language_info": {
   "codemirror_mode": {
    "name": "ipython",
    "version": 3
   },
   "file_extension": ".py",
   "mimetype": "text/x-python",
   "name": "python",
   "nbconvert_exporter": "python",
   "pygments_lexer": "ipython3",
   "version": "3.12.6"
  }
 },
 "nbformat": 4,
 "nbformat_minor": 5
}
